{
 "cells": [
  {
   "cell_type": "code",
   "execution_count": 2,
   "id": "fa076b08",
   "metadata": {},
   "outputs": [],
   "source": [
    "import numpy as np"
   ]
  },
  {
   "cell_type": "code",
   "execution_count": 3,
   "id": "983f22f1",
   "metadata": {},
   "outputs": [
    {
     "name": "stdout",
     "output_type": "stream",
     "text": [
      "[[10 20 30]\n",
      " [30 40 50]]\n"
     ]
    }
   ],
   "source": [
    "ar=np.array([[10,20,30],[30,40,50]])\n",
    "print(ar)"
   ]
  },
  {
   "cell_type": "code",
   "execution_count": 4,
   "id": "76a5315e",
   "metadata": {},
   "outputs": [
    {
     "name": "stdout",
     "output_type": "stream",
     "text": [
      "[[20 30]]\n"
     ]
    }
   ],
   "source": [
    "sliced=ar[:1:,1:]\n",
    "print(sliced)"
   ]
  },
  {
   "cell_type": "code",
   "execution_count": 5,
   "id": "16cef598",
   "metadata": {},
   "outputs": [
    {
     "name": "stdout",
     "output_type": "stream",
     "text": [
      "[20 40]\n"
     ]
    }
   ],
   "source": [
    "indexed=ar[[0,1],[1,1]]\n",
    "print(indexed)"
   ]
  },
  {
   "cell_type": "code",
   "execution_count": 6,
   "id": "f16d0611",
   "metadata": {},
   "outputs": [
    {
     "name": "stdout",
     "output_type": "stream",
     "text": [
      "180\n"
     ]
    }
   ],
   "source": [
    "#sum\n",
    "print(ar.sum())\n"
   ]
  },
  {
   "cell_type": "code",
   "execution_count": 8,
   "id": "e883a5f1",
   "metadata": {},
   "outputs": [
    {
     "name": "stdout",
     "output_type": "stream",
     "text": [
      "[[3.16227766 4.47213595 5.47722558]\n",
      " [5.47722558 6.32455532 7.07106781]]\n"
     ]
    }
   ],
   "source": [
    "#sqrt\n",
    "print(np.sqrt(ar))"
   ]
  },
  {
   "cell_type": "code",
   "execution_count": 9,
   "id": "e62993c1",
   "metadata": {},
   "outputs": [
    {
     "name": "stdout",
     "output_type": "stream",
     "text": [
      "[[20 30 40]\n",
      " [40 50 60]]\n"
     ]
    }
   ],
   "source": [
    "#add element in array\n",
    "print(ar+10)"
   ]
  },
  {
   "cell_type": "code",
   "execution_count": 11,
   "id": "d33950aa",
   "metadata": {},
   "outputs": [
    {
     "name": "stdout",
     "output_type": "stream",
     "text": [
      "[[42 19 23]\n",
      " [72 35 42]\n",
      " [54 22 27]]\n"
     ]
    }
   ],
   "source": [
    "m1=np.array([[1,2,3],[2,4,5],[1,2,4]])\n",
    "m2=np.array([[2,4,3],[2,3,4],[12,3,4]])\n",
    "\n",
    "m3=np.dot(m1,m2)\n",
    "print(m3)"
   ]
  },
  {
   "cell_type": "code",
   "execution_count": 12,
   "id": "8de0fa3a",
   "metadata": {},
   "outputs": [
    {
     "name": "stdout",
     "output_type": "stream",
     "text": [
      "[[42 72 54]\n",
      " [19 35 22]\n",
      " [23 42 27]]\n"
     ]
    }
   ],
   "source": [
    "#transpose\n",
    "\n",
    "print(m3.T)"
   ]
  },
  {
   "cell_type": "code",
   "execution_count": 13,
   "id": "315f00fd",
   "metadata": {},
   "outputs": [
    {
     "name": "stdout",
     "output_type": "stream",
     "text": [
      "False\n"
     ]
    }
   ],
   "source": [
    "bol=np.array([[True,True],[False,False]])\n",
    "print(np.all(bol))"
   ]
  },
  {
   "cell_type": "code",
   "execution_count": 15,
   "id": "6c5b40a1",
   "metadata": {},
   "outputs": [
    {
     "name": "stdout",
     "output_type": "stream",
     "text": [
      "True\n"
     ]
    }
   ],
   "source": [
    "bol=np.array([[True,True],[True,True]])\n",
    "print(np.all(bol))"
   ]
  },
  {
   "cell_type": "code",
   "execution_count": 17,
   "id": "4aa10486",
   "metadata": {},
   "outputs": [
    {
     "name": "stdout",
     "output_type": "stream",
     "text": [
      "[ True False]\n"
     ]
    }
   ],
   "source": [
    "bol=np.array([[True,True],[False,False]])\n",
    "print(np.all(bol,axis=1))"
   ]
  },
  {
   "cell_type": "code",
   "execution_count": 19,
   "id": "4c0403d6",
   "metadata": {},
   "outputs": [
    {
     "name": "stdout",
     "output_type": "stream",
     "text": [
      "[False False]\n"
     ]
    }
   ],
   "source": [
    "bol=np.array([[True,True],[False,False]])\n",
    "print(np.all(bol ,axis=0))"
   ]
  },
  {
   "cell_type": "code",
   "execution_count": 22,
   "id": "d002dd9b",
   "metadata": {},
   "outputs": [
    {
     "name": "stdout",
     "output_type": "stream",
     "text": [
      "True\n"
     ]
    }
   ],
   "source": [
    "bol=np.array([[True,True],[False,False]])\n",
    "print(np.any(bol))"
   ]
  },
  {
   "cell_type": "code",
   "execution_count": 24,
   "id": "44527dd4",
   "metadata": {},
   "outputs": [
    {
     "name": "stdout",
     "output_type": "stream",
     "text": [
      "[ True False]\n"
     ]
    }
   ],
   "source": [
    "bol=np.array([[True,True],[False,False]])\n",
    "print(np.all(bol,axis=1))"
   ]
  },
  {
   "cell_type": "code",
   "execution_count": 33,
   "id": "0698a312",
   "metadata": {},
   "outputs": [
    {
     "name": "stdout",
     "output_type": "stream",
     "text": [
      "[ True False]\n"
     ]
    }
   ],
   "source": [
    "bol=np.array([[True,True],[False,False]])\n",
    "print(np.any(bol,axis=1))"
   ]
  },
  {
   "cell_type": "code",
   "execution_count": 28,
   "id": "f7439f53",
   "metadata": {},
   "outputs": [
    {
     "name": "stdout",
     "output_type": "stream",
     "text": [
      "[ True  True]\n"
     ]
    }
   ],
   "source": [
    "bol=np.array([[True,True],[False,False]])\n",
    "print(np.any(bol,axis=0))"
   ]
  },
  {
   "cell_type": "code",
   "execution_count": 34,
   "id": "16915b0e",
   "metadata": {},
   "outputs": [
    {
     "name": "stdout",
     "output_type": "stream",
     "text": [
      "[0 1 2 3 4 5 6 7]\n"
     ]
    }
   ],
   "source": [
    "#arrang\n",
    "ar=np.arange(8)\n",
    "print(ar)"
   ]
  },
  {
   "cell_type": "code",
   "execution_count": 36,
   "id": "9909c19e",
   "metadata": {},
   "outputs": [
    {
     "name": "stdout",
     "output_type": "stream",
     "text": [
      "[[0 1 2 3]\n",
      " [4 5 6 7]]\n"
     ]
    }
   ],
   "source": [
    "#reshape\n",
    "\n",
    "print(ar.reshape(2,4))"
   ]
  },
  {
   "cell_type": "code",
   "execution_count": 38,
   "id": "2f1081cf",
   "metadata": {},
   "outputs": [
    {
     "name": "stdout",
     "output_type": "stream",
     "text": [
      "[[ 1  2  3]\n",
      " [ 2  4  5]\n",
      " [ 1  2  4]\n",
      " [ 2  4  3]\n",
      " [ 2  3  4]\n",
      " [12  3  4]\n",
      " [42 19 23]\n",
      " [72 35 42]\n",
      " [54 22 27]]\n"
     ]
    }
   ],
   "source": [
    "#merge vstack\n",
    "vstack=np.vstack((m1,m2,m3))\n",
    "print(vstack)"
   ]
  },
  {
   "cell_type": "code",
   "execution_count": 40,
   "id": "887417ef",
   "metadata": {},
   "outputs": [
    {
     "name": "stdout",
     "output_type": "stream",
     "text": [
      "[[ 1  2  3  2  4  3 42 19 23]\n",
      " [ 2  4  5  2  3  4 72 35 42]\n",
      " [ 1  2  4 12  3  4 54 22 27]]\n"
     ]
    }
   ],
   "source": [
    "#merge vstack\n",
    "hstack=np.hstack((m1,m2,m3))\n",
    "print(hstack)"
   ]
  },
  {
   "cell_type": "code",
   "execution_count": 43,
   "id": "7cbdcf6a",
   "metadata": {},
   "outputs": [
    {
     "name": "stdout",
     "output_type": "stream",
     "text": [
      "[array([[1, 2, 3],\n",
      "       [2, 4, 5],\n",
      "       [1, 2, 4]]), array([[ 2,  4,  3],\n",
      "       [ 2,  3,  4],\n",
      "       [12,  3,  4]]), array([[42, 19, 23],\n",
      "       [72, 35, 42],\n",
      "       [54, 22, 27]])]\n"
     ]
    }
   ],
   "source": [
    "#merge vstack\n",
    "vspilt=np.vsplit(vstack,3)\n",
    "print(vspilt)"
   ]
  },
  {
   "cell_type": "code",
   "execution_count": 46,
   "id": "a469f1ca",
   "metadata": {},
   "outputs": [
    {
     "name": "stdout",
     "output_type": "stream",
     "text": [
      "[array([[ 1],\n",
      "       [ 2],\n",
      "       [ 1],\n",
      "       [ 2],\n",
      "       [ 2],\n",
      "       [12],\n",
      "       [42],\n",
      "       [72],\n",
      "       [54]]), array([[ 2],\n",
      "       [ 4],\n",
      "       [ 2],\n",
      "       [ 4],\n",
      "       [ 3],\n",
      "       [ 3],\n",
      "       [19],\n",
      "       [35],\n",
      "       [22]]), array([[ 3],\n",
      "       [ 5],\n",
      "       [ 4],\n",
      "       [ 3],\n",
      "       [ 4],\n",
      "       [ 4],\n",
      "       [23],\n",
      "       [42],\n",
      "       [27]])]\n"
     ]
    }
   ],
   "source": [
    "#merge vstack\n",
    "vspilt=np.hsplit(vstack,3)\n",
    "print(vspilt)"
   ]
  },
  {
   "cell_type": "code",
   "execution_count": 48,
   "id": "0bcced19",
   "metadata": {},
   "outputs": [
    {
     "name": "stdout",
     "output_type": "stream",
     "text": [
      "sqrt [1.41421356 1.73205081 2.        ]\n",
      "exp [ 7.3890561  20.08553692 54.59815003]\n",
      "sin [ 0.90929743  0.14112001 -0.7568025 ]\n",
      "cos [-0.41614684 -0.9899925  -0.65364362]\n",
      "log [0.69314718 1.09861229 1.38629436]\n",
      "sum 9\n",
      "std 0.816496580927726\n"
     ]
    }
   ],
   "source": [
    "#mathematical function\n",
    "\n",
    "ar=np.array([2,3,4])\n",
    "print('sqrt',np.sqrt(ar))\n",
    "print('exp',np.exp(ar))\n",
    "print('sin',np.sin(ar))\n",
    "print('cos',np.cos(ar))\n",
    "print('log',np.log(ar))\n",
    "print('sum',np.sum(ar))\n",
    "print('std',np.std(ar))"
   ]
  },
  {
   "cell_type": "code",
   "execution_count": 50,
   "id": "4cebde76",
   "metadata": {},
   "outputs": [
    {
     "name": "stdout",
     "output_type": "stream",
     "text": [
      "[0.25307227 0.80361877 0.19629769 0.68291409 0.11676941 0.10048159\n",
      " 0.32262335 0.09494979 0.68541417 0.20808645 0.46120245 0.76300922\n",
      " 0.33411219 0.42517258 0.70139085 0.78587071 0.3195576  0.71824927\n",
      " 0.83339088 0.28082042]\n"
     ]
    }
   ],
   "source": [
    "#random\n",
    "\n",
    "print(np.random.random(20))"
   ]
  },
  {
   "cell_type": "code",
   "execution_count": 52,
   "id": "3a5d0a37",
   "metadata": {},
   "outputs": [
    {
     "name": "stdout",
     "output_type": "stream",
     "text": [
      "[[0.22909051 0.33731792 0.61215631 0.9445971 ]\n",
      " [0.93869652 0.97007567 0.01743006 0.02739277]\n",
      " [0.83621435 0.30782178 0.84020046 0.5556991 ]]\n"
     ]
    }
   ],
   "source": [
    "print(np.random.rand(3,4))"
   ]
  },
  {
   "cell_type": "code",
   "execution_count": 54,
   "id": "81f873f4",
   "metadata": {},
   "outputs": [
    {
     "name": "stdout",
     "output_type": "stream",
     "text": [
      "[75 56 35 50 18 59 66 21 89 88 54 21 38  0 23 51  5 80 72 33]\n"
     ]
    }
   ],
   "source": [
    "print(np.random.randint(0,100,20))"
   ]
  },
  {
   "cell_type": "code",
   "execution_count": 57,
   "id": "736de361",
   "metadata": {},
   "outputs": [
    {
     "name": "stdout",
     "output_type": "stream",
     "text": [
      "[1 0 4 2 3]\n"
     ]
    }
   ],
   "source": [
    "#permitution\n",
    "print(np.random.permutation(np.arange(5)))"
   ]
  }
 ],
 "metadata": {
  "kernelspec": {
   "display_name": "Python 3 (ipykernel)",
   "language": "python",
   "name": "python3"
  },
  "language_info": {
   "codemirror_mode": {
    "name": "ipython",
    "version": 3
   },
   "file_extension": ".py",
   "mimetype": "text/x-python",
   "name": "python",
   "nbconvert_exporter": "python",
   "pygments_lexer": "ipython3",
   "version": "3.11.5"
  }
 },
 "nbformat": 4,
 "nbformat_minor": 5
}
