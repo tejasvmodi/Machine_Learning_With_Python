{
 "cells": [
  {
   "cell_type": "code",
   "execution_count": 2,
   "id": "aea1213f",
   "metadata": {},
   "outputs": [],
   "source": [
    "import pandas as pd"
   ]
  },
  {
   "cell_type": "code",
   "execution_count": 7,
   "id": "5dc80c25",
   "metadata": {},
   "outputs": [
    {
     "name": "stdout",
     "output_type": "stream",
     "text": [
      "2.0.3\n"
     ]
    }
   ],
   "source": [
    "print(pd.__version__)#print version"
   ]
  },
  {
   "cell_type": "code",
   "execution_count": 16,
   "id": "dc46d2dd",
   "metadata": {},
   "outputs": [
    {
     "name": "stdout",
     "output_type": "stream",
     "text": [
      "i1    1\n",
      "i2    2\n",
      "i3    3\n",
      "i4    4\n",
      "i5    5\n",
      "i6    6\n",
      "dtype: int64\n",
      "0    1\n",
      "1    2\n",
      "2    3\n",
      "3    4\n",
      "4    5\n",
      "5    6\n",
      "dtype: int64\n"
     ]
    }
   ],
   "source": [
    "#create a series with index \n",
    "a=[1,2,3,4,5,6]\n",
    "s1=pd.Series(a,index=['i1','i2','i3','i4','i5','i6'])#print withhin a index \n",
    "s2=pd.Series(a)#print without index\n",
    "print(s1)\n",
    "print(s2)"
   ]
  },
  {
   "cell_type": "code",
   "execution_count": 19,
   "id": "f9a08e50",
   "metadata": {},
   "outputs": [
    {
     "name": "stdout",
     "output_type": "stream",
     "text": [
      "1\n"
     ]
    }
   ],
   "source": [
    "print(s1['i1'])#print the series as a index"
   ]
  },
  {
   "cell_type": "code",
   "execution_count": 21,
   "id": "fee05eb3",
   "metadata": {},
   "outputs": [
    {
     "name": "stdout",
     "output_type": "stream",
     "text": [
      "tej      85\n",
      "smitt    86\n",
      "xyz       1\n",
      "abc      23\n",
      "dtype: int64\n"
     ]
    }
   ],
   "source": [
    "#print the series in keysvalue pair \n",
    "keyvalue={\"tej\":85,\"smitt\":86,\"xyz\":1,\"abc\":23}\n",
    "newkey=pd.Series(keyvalue)\n",
    "print(newkey)"
   ]
  },
  {
   "cell_type": "code",
   "execution_count": 25,
   "id": "e6e0e767",
   "metadata": {},
   "outputs": [
    {
     "name": "stdout",
     "output_type": "stream",
     "text": [
      "  subject  marks\n",
      "0    aiml     90\n",
      "1     ccn     89\n",
      "2      ws     70\n",
      "3      cs     99\n"
     ]
    }
   ],
   "source": [
    "#example of the Dataframe \n",
    "student={'subject':['aiml','ccn','ws','cs'],\n",
    "        'marks':[90,89,70,99]}\n",
    "Sstude=pd.DataFrame(student)\n",
    "print(Sstude)"
   ]
  },
  {
   "cell_type": "code",
   "execution_count": 32,
   "id": "2ef0b1c9",
   "metadata": {},
   "outputs": [
    {
     "name": "stdout",
     "output_type": "stream",
     "text": [
      "subject    cs\n",
      "marks      99\n",
      "Name: 3, dtype: object\n"
     ]
    }
   ],
   "source": [
    "#fetch sigle row in dattaframe\n",
    "print(Sstude.loc[3])"
   ]
  },
  {
   "cell_type": "code",
   "execution_count": 35,
   "id": "99d848d3",
   "metadata": {},
   "outputs": [
    {
     "name": "stdout",
     "output_type": "stream",
     "text": [
      "   Sr.No StudentName   Birthdate Course  Percentage\n",
      "0      1     Bhavdip  23-10-2002  MSCIT        64.0\n",
      "1      2    Digvijay  15-11-2002  MSCIT        81.0\n",
      "2      3        Smit  11-15-2002  MSCIT        86.0\n",
      "3      4      Tejasv  10-06-2003  MSCIT        85.0\n",
      "4      5      Uzzama  16-04-1997  MSCIT        87.0\n",
      "5      6     Bhavesh  12-5-88888    NaN         NaN\n"
     ]
    }
   ],
   "source": [
    "#read the data from the csv file \n",
    "\n",
    "studData=pd.read_csv('mlpdoc.csv')\n",
    "print(studData)"
   ]
  },
  {
   "cell_type": "code",
   "execution_count": 38,
   "id": "9a2344b1",
   "metadata": {},
   "outputs": [
    {
     "name": "stdout",
     "output_type": "stream",
     "text": [
      "   Sr.No StudentName   Birthdate Course  Percentage\n",
      "0      1     Bhavdip  23-10-2002  MSCIT        64.0\n",
      "1      2    Digvijay  15-11-2002  MSCIT        81.0\n",
      "2      3        Smit  11-15-2002  MSCIT        86.0\n",
      "3      4      Tejasv  10-06-2003  MSCIT        85.0\n",
      "4      5      Uzzama  16-04-1997  MSCIT        87.0\n"
     ]
    }
   ],
   "source": [
    "#print the first five record from the file \n",
    "print(studData.head())"
   ]
  },
  {
   "cell_type": "code",
   "execution_count": 40,
   "id": "6147fc2f",
   "metadata": {},
   "outputs": [
    {
     "name": "stdout",
     "output_type": "stream",
     "text": [
      "   Sr.No StudentName   Birthdate Course  Percentage\n",
      "1      2    Digvijay  15-11-2002  MSCIT        81.0\n",
      "2      3        Smit  11-15-2002  MSCIT        86.0\n",
      "3      4      Tejasv  10-06-2003  MSCIT        85.0\n",
      "4      5      Uzzama  16-04-1997  MSCIT        87.0\n",
      "5      6     Bhavesh  12-5-88888    NaN         NaN\n"
     ]
    }
   ],
   "source": [
    "#print the last five records from file \n",
    "print(studData.tail())"
   ]
  },
  {
   "cell_type": "code",
   "execution_count": 43,
   "id": "c95fb8a3",
   "metadata": {},
   "outputs": [
    {
     "name": "stdout",
     "output_type": "stream",
     "text": [
      "Sr.No                   3\n",
      "StudentName          Smit\n",
      "Birthdate      11-15-2002\n",
      "Course              MSCIT\n",
      "Percentage           86.0\n",
      "Name: 2, dtype: object\n"
     ]
    }
   ],
   "source": [
    "#print the second number / location of the record \n",
    "print(studData.loc[2])"
   ]
  },
  {
   "cell_type": "code",
   "execution_count": 45,
   "id": "4d5615f0",
   "metadata": {},
   "outputs": [
    {
     "name": "stdout",
     "output_type": "stream",
     "text": [
      "<class 'pandas.core.frame.DataFrame'>\n",
      "RangeIndex: 6 entries, 0 to 5\n",
      "Data columns (total 5 columns):\n",
      " #   Column       Non-Null Count  Dtype  \n",
      "---  ------       --------------  -----  \n",
      " 0   Sr.No        6 non-null      int64  \n",
      " 1   StudentName  6 non-null      object \n",
      " 2   Birthdate    6 non-null      object \n",
      " 3   Course       5 non-null      object \n",
      " 4   Percentage   5 non-null      float64\n",
      "dtypes: float64(1), int64(1), object(3)\n",
      "memory usage: 372.0+ bytes\n",
      "None\n"
     ]
    }
   ],
   "source": [
    "# show the null, non-null values , datatypes and memory usage\n",
    "print(studData.info())"
   ]
  },
  {
   "cell_type": "code",
   "execution_count": 47,
   "id": "9e9ceb4b",
   "metadata": {},
   "outputs": [
    {
     "name": "stdout",
     "output_type": "stream",
     "text": [
      "   Sr.No StudentName   Birthdate Course  Percentage\n",
      "0      1     Bhavdip  23-10-2002  MSCIT        64.0\n",
      "1      2    Digvijay  15-11-2002  MSCIT        81.0\n",
      "2      3        Smit  11-15-2002  MSCIT        86.0\n",
      "3      4      Tejasv  10-06-2003  MSCIT        85.0\n",
      "4      5      Uzzama  16-04-1997  MSCIT        87.0\n"
     ]
    }
   ],
   "source": [
    "#drop a null value data from the records \n",
    "newStudData=studData.dropna()\n",
    "print(newStudData)"
   ]
  },
  {
   "cell_type": "code",
   "execution_count": 49,
   "id": "f598a7d5",
   "metadata": {},
   "outputs": [
    {
     "name": "stdout",
     "output_type": "stream",
     "text": [
      "   Sr.No StudentName   Birthdate Course  Percentage\n",
      "0      1     Bhavdip  23-10-2002  MSCIT        64.0\n",
      "1      2    Digvijay  15-11-2002  MSCIT        81.0\n",
      "2      3        Smit  11-15-2002  MSCIT        86.0\n",
      "3      4      Tejasv  10-06-2003  MSCIT        85.0\n",
      "4      5      Uzzama  16-04-1997  MSCIT        87.0\n",
      "5      6     Bhavesh  12-5-88888     30        30.0\n"
     ]
    }
   ],
   "source": [
    "#replace value to the null values \n",
    "filledStud=studData.fillna(30)\n",
    "print(filledStud)"
   ]
  },
  {
   "cell_type": "code",
   "execution_count": 53,
   "id": "38a34b30",
   "metadata": {},
   "outputs": [
    {
     "name": "stdout",
     "output_type": "stream",
     "text": [
      "0    MSCIT\n",
      "1    MSCIT\n",
      "2    MSCIT\n",
      "3    MSCIT\n",
      "4    MSCIT\n",
      "5      MCA\n",
      "Name: Course, dtype: object\n"
     ]
    }
   ],
   "source": [
    "#replace the null value according to the column\n",
    "new=studData['Course'].fillna('MCA')\n",
    "print(new)"
   ]
  },
  {
   "cell_type": "code",
   "execution_count": 56,
   "id": "f113fbd5",
   "metadata": {
    "scrolled": true
   },
   "outputs": [
    {
     "name": "stdout",
     "output_type": "stream",
     "text": [
      "   Sr.No StudentName   Birthdate Course  Percentage\n",
      "0      1     Bhavdip  23-10-2002  MSCIT        64.0\n",
      "1      2    Digvijay  15-11-2002  MSCIT        81.0\n",
      "2      3        Smit  11-15-2002  MSCIT        86.0\n",
      "3      4      Tejasv  10-06-2003  MSCIT        85.0\n",
      "4      5      Uzzama  16-04-1997  MSCIT        87.0\n",
      "5      6     Bhavesh  12-5-88888    MCA         NaN\n"
     ]
    }
   ],
   "source": [
    "# update the null record from the file with respect to the column\n",
    "studData['Course'].fillna('MCA',inplace=True)\n",
    "print(studData)"
   ]
  },
  {
   "cell_type": "code",
   "execution_count": 59,
   "id": "24f0d962",
   "metadata": {},
   "outputs": [
    {
     "name": "stdout",
     "output_type": "stream",
     "text": [
      "mean:80.6\n"
     ]
    }
   ],
   "source": [
    "#mean.........\n",
    "mean=studData[\"Percentage\"].mean()\n",
    "print(f\"mean:{mean}\")"
   ]
  },
  {
   "cell_type": "code",
   "execution_count": 61,
   "id": "ff814a27",
   "metadata": {},
   "outputs": [
    {
     "name": "stdout",
     "output_type": "stream",
     "text": [
      "median:85.0\n"
     ]
    }
   ],
   "source": [
    "#median........\n",
    "median=studData['Percentage'].median()\n",
    "print(f\"median:{median}\")"
   ]
  },
  {
   "cell_type": "code",
   "execution_count": 64,
   "id": "09387c99",
   "metadata": {},
   "outputs": [
    {
     "name": "stdout",
     "output_type": "stream",
     "text": [
      "mode:0    64.0\n",
      "1    81.0\n",
      "2    85.0\n",
      "3    86.0\n",
      "4    87.0\n",
      "Name: Percentage, dtype: float64\n"
     ]
    }
   ],
   "source": [
    "#mode..........\n",
    "mode=studData['Percentage'].mode()\n",
    "print(f\"mode:{mode}\")"
   ]
  },
  {
   "cell_type": "code",
   "execution_count": null,
   "id": "2784f12c",
   "metadata": {},
   "outputs": [],
   "source": []
  }
 ],
 "metadata": {
  "kernelspec": {
   "display_name": "Python 3 (ipykernel)",
   "language": "python",
   "name": "python3"
  },
  "language_info": {
   "codemirror_mode": {
    "name": "ipython",
    "version": 3
   },
   "file_extension": ".py",
   "mimetype": "text/x-python",
   "name": "python",
   "nbconvert_exporter": "python",
   "pygments_lexer": "ipython3",
   "version": "3.11.5"
  }
 },
 "nbformat": 4,
 "nbformat_minor": 5
}
